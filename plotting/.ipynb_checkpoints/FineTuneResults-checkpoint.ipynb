{
 "cells": [
  {
   "cell_type": "code",
   "execution_count": 2,
   "id": "0e0b3ffa",
   "metadata": {},
   "outputs": [],
   "source": [
    "import matplotlib.pyplot as plt\n",
    "import matplotlib\n",
    "import pandas as pd\n",
    "import seaborn as sns\n",
    "\n",
    "import os\n",
    "import glob\n",
    "import argparse\n",
    "import math\n",
    "\n",
    "def format_text(text):\n",
    "    text = text.replace(\"_\", \" \")"
   ]
  },
  {
   "cell_type": "code",
   "execution_count": 34,
   "id": "575031a2",
   "metadata": {},
   "outputs": [],
   "source": [
    "dataset_dir = \"/datastor1/jiahuikchen/LT-classification/logs/coco_10.0cfg\"\n",
    "cond_methods = [\"dropout\", \"embed_cutmix_dropout\", \"embed_mixup_dropout\"]\n",
    "\n",
    "# def plot_all_cond_methods(dataset_dir, cond_methods):\n",
    "for cond_method in cond_methods:\n",
    "    img_dir = os.path.join(dataset_dir, cond_method)\n",
    "    files = list(glob.glob(os.path.join(img_dir, \"*.csv\")))\n",
    "    for csv_file in files:\n",
    "        run_df = pd.read_csv(csv_file, index_col=0)\n",
    "        # only keep the val accuracy rows (one row per epoch)\n",
    "        run_df = run_df.loc[(run_df['metric'] == 'Accuracy') & (run_df['split'] == \"Validation\")]\n",
    "        val_accs = run_df[\"value\"].to_numpy()\n",
    "        acc = val_accs.max()"
   ]
  },
  {
   "cell_type": "code",
   "execution_count": 35,
   "id": "f135c9a4",
   "metadata": {},
   "outputs": [
    {
     "data": {
      "text/plain": [
       "0.73597157"
      ]
     },
     "execution_count": 35,
     "metadata": {},
     "output_type": "execute_result"
    }
   ],
   "source": [
    "acc"
   ]
  }
 ],
 "metadata": {
  "kernelspec": {
   "display_name": "Python 3 (ipykernel)",
   "language": "python",
   "name": "python3"
  },
  "language_info": {
   "codemirror_mode": {
    "name": "ipython",
    "version": 3
   },
   "file_extension": ".py",
   "mimetype": "text/x-python",
   "name": "python",
   "nbconvert_exporter": "python",
   "pygments_lexer": "ipython3",
   "version": "3.11.5"
  }
 },
 "nbformat": 4,
 "nbformat_minor": 5
}
